{
 "cells": [
  {
   "cell_type": "markdown",
   "metadata": {},
   "source": [
    "# Working with numpy\n",
    "    "
   ]
  },
  {
   "cell_type": "markdown",
   "metadata": {},
   "source": [
    "## Stock data"
   ]
  },
  {
   "cell_type": "markdown",
   "metadata": {},
   "source": [
    "First we will use the same `GDAXI.csv` file as in the previous exercise."
   ]
  },
  {
   "cell_type": "markdown",
   "metadata": {},
   "source": [
    "<div class='alert alert-block alert-info'>\n",
    "\n",
    "We will repeat the analysis from the assignment 2 with numpy and more advance plotting: <br>\n",
    "<ul>\n",
    "    <li> Load all columns with prices `Open,High,Low,Close,Adj_Close` from this file to a numpy array. </li>\n",
    "    <li> Take care about the first column with dates. Load it in a separate array as a string. </li>\n",
    "    <li> Use build-in numpy mean function for calculating the mean values of prices in each column.</li>\n",
    "    <li> Take a look at the `rolling_window()` function, which should also work with multidimensional arrays.</li>\n",
    "    <li> Use `rolling_window()` function to calculate and save in additional array the rolling average for each column with the window size 10.</li>\n",
    "</ul>\n",
    "\n",
    "</div>\n",
    "\n",
    "<div class='alert alert-warning'>\n",
    "Note: <br>\n",
    "<ul>\n",
    "    <li>Don't forget to skip the first line with field names. You can save them separately.</li>\n",
    "    <li>You know, that by reading the array using numpy it will try to use the same data types for each column/row. </li>\n",
    "    <li>Now your array is multidimensional, take care about correct dimension for calculating the mean. </li>\n",
    "    \n",
    "</ul>\n",
    "</div>"
   ]
  },
  {
   "cell_type": "code",
   "execution_count": null,
   "metadata": {
    "ExecuteTime": {
     "end_time": "2018-10-17T12:42:33.867646Z",
     "start_time": "2018-10-17T12:42:33.673402Z"
    }
   },
   "outputs": [],
   "source": [
    "import numpy as np\n",
    "import matplotlib.pyplot as plt\n",
    "%matplotlib inline"
   ]
  },
  {
   "cell_type": "code",
   "execution_count": null,
   "metadata": {
    "ExecuteTime": {
     "end_time": "2018-10-17T12:42:34.614858Z",
     "start_time": "2018-10-17T12:42:34.609433Z"
    }
   },
   "outputs": [],
   "source": [
    "def rolling_window(a, window):\n",
    "    \"\"\"Helper function for calculating rolling window.\n",
    "    \n",
    "    Arguments:\n",
    "        a: numpy array, can be multidimensional;\n",
    "        window (int): the width of the rolling window.\n",
    "    Returns: \n",
    "        multidimensional numpy array: each element replaced by 1D arrays of values within defined window.\n",
    "    \"\"\"\n",
    "    a=a.T\n",
    "    window = int(window)\n",
    "    \n",
    "    shape = a.shape[:-1] + (a.shape[-1] - window + 1, window)\n",
    "    strides = a.strides + (a.strides[-1],)\n",
    "    return np.lib.stride_tricks.as_strided(a, shape=shape, strides=strides).T"
   ]
  },
  {
   "cell_type": "markdown",
   "metadata": {},
   "source": [
    "Let's have a look at the beginning of the data."
   ]
  },
  {
   "cell_type": "code",
   "execution_count": null,
   "metadata": {
    "ExecuteTime": {
     "end_time": "2018-10-17T12:42:35.587001Z",
     "start_time": "2018-10-17T12:42:35.577229Z"
    }
   },
   "outputs": [],
   "source": []
  },
  {
   "cell_type": "markdown",
   "metadata": {},
   "source": [
    "<div class='alert alert-block alert-info'>\n",
    "\n",
    "Task: <br>\n",
    "<ul>\n",
    "    <li>Plot your results: Use the subplots for different values. Don't forget legends and axis names.</li>\n",
    "</ul>"
   ]
  },
  {
   "cell_type": "code",
   "execution_count": null,
   "metadata": {
    "ExecuteTime": {
     "end_time": "2018-10-17T12:42:37.647842Z",
     "start_time": "2018-10-17T12:42:37.502601Z"
    }
   },
   "outputs": [],
   "source": []
  },
  {
   "cell_type": "markdown",
   "metadata": {},
   "source": [
    "## Image Mean Filter\n",
    "\n",
    "The mean filter is an example of a linear filter. It basically replaces each pixel in the output image with the mean (average) value of the neighborhood. This has the effect of smoothing the image (reducing the amount of intensity variations between a pixel and the next), removing noise from the image, and brightening the image.\n",
    "\n",
    "We will use the mean calculation, which you've learned already as a mean filter to smooth the noisy image."
   ]
  },
  {
   "cell_type": "markdown",
   "metadata": {
    "ExecuteTime": {
     "end_time": "2018-10-15T14:47:38.646512Z",
     "start_time": "2018-10-15T14:47:38.635884Z"
    }
   },
   "source": [
    "<div class='alert alert-block alert-info'>\n",
    "\n",
    "Task: <br>\n",
    "<ul>\n",
    "    <li>Take a look at the image below.</li>\n",
    "    <li>Write the smoothing filter, which will replace the value of each pixel with the mean value of neighboring pixels including the one, which will be replaced (e.g. 9 values in total for 1 neighboring pixel).</li>\n",
    "    <li>Plot the result.</li>\n",
    "    <li>Bonus: If everything is working, you can try to replace mean filter with median. </li>\n",
    "    <li>Search into scipy library documentation for a module/function, which would do the denoising for you. </li>\n",
    "</ul>\n"
   ]
  },
  {
   "cell_type": "code",
   "execution_count": null,
   "metadata": {
    "ExecuteTime": {
     "end_time": "2018-10-17T12:42:40.477521Z",
     "start_time": "2018-10-17T12:42:39.846310Z"
    }
   },
   "outputs": [],
   "source": [
    "im_g = np.genfromtxt(\"cameramannoise.txt\") # loading the gray-scale image as numpy array "
   ]
  },
  {
   "cell_type": "code",
   "execution_count": null,
   "metadata": {
    "ExecuteTime": {
     "end_time": "2018-10-17T12:42:40.828435Z",
     "start_time": "2018-10-17T12:42:40.480958Z"
    }
   },
   "outputs": [],
   "source": [
    "plt.figure(figsize=(10,10))\n",
    "plt.imshow(im_g, cmap='gray')\n",
    "plt.show()"
   ]
  },
  {
   "cell_type": "markdown",
   "metadata": {},
   "source": [
    "Write the smoothing function and display the output\n",
    "\n",
    "<div class='alert alert-warning'>\n",
    "Note: <br>\n",
    "<ul>\n",
    "    <li>Don't forget to use a nested `for` loop.</li>\n",
    "    <li>You would need to select a submatrix (as in the class today) to calculate a mean. For 1 pixels neighbors it will be 9x9 submatrix. </li>\n",
    "    \n",
    "</ul>\n",
    "</div>"
   ]
  },
  {
   "cell_type": "code",
   "execution_count": null,
   "metadata": {
    "ExecuteTime": {
     "end_time": "2018-10-17T12:42:42.553454Z",
     "start_time": "2018-10-17T12:42:42.547390Z"
    }
   },
   "outputs": [],
   "source": []
  },
  {
   "cell_type": "code",
   "execution_count": null,
   "metadata": {
    "ExecuteTime": {
     "end_time": "2018-10-17T12:43:41.324654Z",
     "start_time": "2018-10-17T12:43:41.318346Z"
    }
   },
   "outputs": [],
   "source": []
  },
  {
   "cell_type": "code",
   "execution_count": null,
   "metadata": {
    "ExecuteTime": {
     "end_time": "2018-10-17T12:42:46.544337Z",
     "start_time": "2018-10-17T12:42:42.821839Z"
    }
   },
   "outputs": [],
   "source": []
  },
  {
   "cell_type": "code",
   "execution_count": null,
   "metadata": {},
   "outputs": [],
   "source": []
  }
 ],
 "metadata": {
  "kernelspec": {
   "display_name": "Python 2",
   "language": "python",
   "name": "python2"
  },
  "language_info": {
   "codemirror_mode": {
    "name": "ipython",
    "version": 2
   },
   "file_extension": ".py",
   "mimetype": "text/x-python",
   "name": "python",
   "nbconvert_exporter": "python",
   "pygments_lexer": "ipython2",
   "version": "2.7.12"
  },
  "toc": {
   "base_numbering": 1,
   "nav_menu": {},
   "number_sections": true,
   "sideBar": true,
   "skip_h1_title": false,
   "title_cell": "Table of Contents",
   "title_sidebar": "Contents",
   "toc_cell": false,
   "toc_position": {
    "height": "calc(100% - 180px)",
    "left": "10px",
    "top": "150px",
    "width": "487.267px"
   },
   "toc_section_display": true,
   "toc_window_display": false
  }
 },
 "nbformat": 4,
 "nbformat_minor": 2
}
